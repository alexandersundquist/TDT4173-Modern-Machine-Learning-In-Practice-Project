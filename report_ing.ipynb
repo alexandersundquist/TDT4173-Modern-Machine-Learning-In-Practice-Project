{
 "cells": [
  {
   "cell_type": "markdown",
   "metadata": {},
   "source": [
    "#### 2.1.2 Relationship between cog, sog and heading \n",
    "To understand the difference between cog, sog and heading, we used some time to look into what the different features meant. \n",
    "![image.png](attachment:image.png)\n",
    "We realised that cog for example related to the north vector and that sog and cog were quite different, as opposed to what we initally thougth. Heading and cog does not need to be related either, which made it clearer for us to understand what the differece was."
   ]
  },
  {
   "cell_type": "markdown",
   "metadata": {},
   "source": [
    "#### Data About the Vessel \n",
    "As different vessels often follow different paths related to what kind of ship they are, we looked into the characteristics of the vessels. To give an idicator of what kind of vessel a given vessel was we realized that breadth, length and how much it can carry say much about the characteristics of a ship. When it comes to length and breadth they were given in the vessels information. There were several features related to size and weight the vessels could carry like 'CEU' and 'DWT'. CEU refers to car equivalent unit and tells how many car a vessel can carry. DWT is Deadwethh Tonnage and tells us how much a vessel can safely carry. 'GT' tells more about the volume/sioxe and stands for gross tonnage. \n",
    "\n",
    "Another feature regarding vessels we thought could be informative was the shipping line ID as the same shipping lines often do the same routes over and over again. \n"
   ]
  },
  {
   "cell_type": "markdown",
   "metadata": {},
   "source": [
    "## Should be under feature engineering the next part "
   ]
  },
  {
   "cell_type": "markdown",
   "metadata": {},
   "source": [
    "### 3.1.2 Selection from Vessels \n",
    "\n",
    "To incorporate the data of a vessel into the training we chose to incorporate breadth, lenght and GT to represent the size and volume of a vessel. Due to missing data and uncertainty about how to calculate and impute DWT and CEU, which give more insight into the weight-carrying aspect of a vessel, we chose to not add them in our features. "
   ]
  },
  {
   "cell_type": "markdown",
   "metadata": {},
   "source": [
    "Impute breadth for missing rows \n",
    "- the way we chose to impute the values was to fill them with the mean length of the given shipping line that was missing breadth "
   ]
  },
  {
   "cell_type": "code",
   "execution_count": null,
   "metadata": {},
   "outputs": [],
   "source": [
    "train = train.merge(vessels[['vesselId', 'length', 'shippingLineId', 'breadth', 'GT']], on='vesselId', how='left')\n",
    "\n",
    "missing_breadth = train[train['breadth'].isna()]\n",
    "\n",
    "missing_breadth_counts = (\n",
    "    missing_breadth.groupby('shippingLineId')['breadth']\n",
    "    .size()\n",
    "    .reset_index(name='missing_breadth_count')\n",
    ")\n",
    "\n",
    "print(\"Shipping lines with missing breadth values:\")\n",
    "print(missing_breadth_counts)\n",
    "\n",
    "num_breadth_nan = train['breadth'].isna().sum()\n",
    "print(f\"Number of NaN values in maxSpeed: {num_breadth_nan}\")"
   ]
  },
  {
   "cell_type": "code",
   "execution_count": null,
   "metadata": {},
   "outputs": [],
   "source": [
    "mean_breadth_shipping_line_5 = train[train['shippingLineId'] == 5]['breadth'].mean()\n",
    "\n",
    "train.loc[train['shippingLineId'] == 5, 'breadth'] = train.loc[train['shippingLineId'] == 5, 'breadth'].fillna(mean_breadth_shipping_line_5)\n",
    "\n",
    "missing_count_after_imputation = train['breadth'].isnull().sum()\n",
    "print(f\"Missing Breadth values after imputation: {missing_count_after_imputation}\")"
   ]
  },
  {
   "cell_type": "markdown",
   "metadata": {},
   "source": [
    "### Model Interpretation "
   ]
  },
  {
   "cell_type": "markdown",
   "metadata": {},
   "source": [
    "We have chosen to interpret the models that are given in the two short notebooks, XX and YYY. Feature importance analysis helps us understand which variables contribute most to the model's predictions. "
   ]
  },
  {
   "cell_type": "markdown",
   "metadata": {},
   "source": [
    "##### Model XXX"
   ]
  },
  {
   "cell_type": "markdown",
   "metadata": {},
   "source": [
    "In the file XXX, we trained the model using the RandomForestRegressor. After training the model, we performed a Feature Importance analysis. The following table summarizes the importance scores for each feature: "
   ]
  },
  {
   "cell_type": "markdown",
   "metadata": {},
   "source": [
    "### Feature Importances:\n",
    "\n",
    "| Feature             | Importance |\n",
    "|---------------------|-----------|\n",
    "| longitude_first     | 0.739001  |\n",
    "| time_since_start    | 0.115180  |\n",
    "| latitude_first      | 0.079880  |\n",
    "| GT                  | 0.013979  |\n",
    "| cog_sin_first       | 0.010984  |\n",
    "| length              | 0.006378  |\n",
    "| sog_first           | 0.005909  |\n",
    "| breadth             | 0.005353  |\n",
    "| cog_cos_first       | 0.004565  |\n",
    "| day                 | 0.004045  |\n",
    "| sog                 | 0.003519  |\n",
    "| cog_sin             | 0.003342  |\n",
    "| month               | 0.002147  |\n",
    "| distance_to_port    | 0.001563  |\n",
    "| cog                 | 0.001162  |\n",
    "| cog_cos             | 0.000796  |\n",
    "| longitude_port      | 0.000600  |\n",
    "| latitude_port       | 0.000566  |\n",
    "| under_way           | 0.000512  |\n",
    "| under_way_first     | 0.000224  |\n",
    "| hour                | 0.000164  |\n",
    "| rot                 | 0.000098  |\n",
    "| minute              | 0.000034  |\n"
   ]
  },
  {
   "cell_type": "markdown",
   "metadata": {},
   "source": [
    "Key Insights:\n",
    "\n",
    "- Longitude_first was found to be the most important feature, with the highest importance score of 0.739001. This indicates that the model places significant weight on the longitude referring to the row at the start of the five-day window when making predictions.\n",
    "- Other features such as time_since_start and latitude_first also had considerable importance, further emphasizing the model's reliance on the first data within the five-day window.\n",
    "- Features like minute and rot were found to have minimal impact on the predictions, with near-zero importance scores, suggesting that these features are less predictive in the context of the model.\n"
   ]
  }
 ],
 "metadata": {
  "kernelspec": {
   "display_name": "venv",
   "language": "python",
   "name": "python3"
  },
  "language_info": {
   "codemirror_mode": {
    "name": "ipython",
    "version": 3
   },
   "file_extension": ".py",
   "mimetype": "text/x-python",
   "name": "python",
   "nbconvert_exporter": "python",
   "pygments_lexer": "ipython3",
   "version": "3.11.1"
  }
 },
 "nbformat": 4,
 "nbformat_minor": 2
}
