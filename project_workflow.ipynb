{
 "cells": [
  {
   "cell_type": "markdown",
   "metadata": {},
   "source": [
    "# Project Workflow"
   ]
  },
  {
   "cell_type": "markdown",
   "metadata": {},
   "source": [
    "\n",
    "- Data inspection\n",
    "- Data preparation\n",
    "    - Cleaning\n",
    "        - Imputation\n",
    "        - Outliers\n",
    "    - Transformation\n",
    "    - Normalization\n",
    "- EDA\n",
    "- Feature engineering\n",
    "    - Feature selection\n",
    "    - Feature generation/extraction\n",
    "- Model engineering\n",
    "    - Selection, construction\n",
    "    - Hyperparameter tuning\n",
    "- Evaluation"
   ]
  }
 ],
 "metadata": {
  "language_info": {
   "name": "python"
  }
 },
 "nbformat": 4,
 "nbformat_minor": 2
}
