{
 "cells": [
  {
   "cell_type": "markdown",
   "metadata": {},
   "source": [
    "# EDA Notes"
   ]
  },
  {
   "cell_type": "markdown",
   "metadata": {},
   "source": [
    "Notes:\n",
    "- Are there dublicates of vessel ID? Do we have like the position of one vessel over multiple time stamps?\n",
    "    - Yes\n",
    "- Whats the distribution of navstat?\n",
    "    - We can see that\n",
    "- The max for sog sticks out, is it an outlier? A lot over mean\n",
    "    - A box plot indicates that there are a few outliers. \n",
    "    - What could be the reason behind it? Super fast boats or just wrongly measured?\n",
    "    - The documentation says that it ranges between 0-102.2, but is that just stating the facts of the data and not necessarily an indication of legitimacy, or does it mean that it makes sense that a vessel travels at 102 knots\n",
    "- Max for heading is also big, is it an outlier? Is it even possible to be that big? A lot over mean\n",
    "    - 511, which was the max for heading, indicates that it is ot available. \n",
    "    - Could be an idea to change this to something else if 511 is confusing.\n",
    "- Break down time and etaRaw from object to integer features.\n",
    "    - Done\n",
    "- Ports have longitude and latitude, so we could link those through the portID\n",
    "- Create lag values of longitude and latitude\n",
    "    - Done for 1 lag\n",
    "- Find correlation between features and longitude and latitude\n",
    "- Do we train a model for each vessel or how do we split it so it doesn't confuse between vessels?\n",
    "- How do we sperate data into train and test data? Do we split it so for each vessel the last something times are not used for training and instead used for testing?\n",
    "- Created a feature for moored or not\n",
    "    - Done\n",
    "- Problematic to sort on vesselId because then the rows are no longer sorted on time. \n",
    "    - Group on vesselID and sort on time\n",
    "- FInd which vessels are in test and train\n",
    "    - Only 215 unique vessels in test and 688 unique in training.\n",
    "- Find the vessels \n",
    "- Training question is if we want to train the model only on the same vessel that we are predicting for or if we want to use all vessels for training. If we only train on the same we are predicting for we lose data. Other vessels could have moved in similar ways so it could be a good idea to keep them.\n"
   ]
  }
 ],
 "metadata": {
  "language_info": {
   "name": "python"
  }
 },
 "nbformat": 4,
 "nbformat_minor": 2
}
