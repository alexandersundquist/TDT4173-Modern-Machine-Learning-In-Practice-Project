{
 "cells": [
  {
   "cell_type": "markdown",
   "metadata": {},
   "source": [
    "# TDT4173 Project Report"
   ]
  },
  {
   "cell_type": "markdown",
   "metadata": {},
   "source": [
    "Course: TDT4173 Modern Machine Learning in Practice\n",
    "\n",
    "Year: 2024\n",
    "\n",
    "Group name: [55] Ship Happens\n",
    "\n",
    "Group members:\n",
    "| Name     | StudentId |\n",
    "| -------- | ------- |\n",
    "| Live Krogh  | 123    |\n",
    "| Ingvild Langeggen  | 123     |\n",
    "| Alexander Sundquist    | 132896    |"
   ]
  },
  {
   "cell_type": "markdown",
   "metadata": {},
   "source": [
    "## Table of Contents\n",
    "\n",
    " 1. [Introduction](#1-introduction)\n",
    " 2. [Exploratory data analysis](#2-exploratory-data-analysis)\n",
    " 3. [Feature engineering](#3-feature-engineering)\n",
    " 4. [Modeling](#4-modeling)\n",
    " 5. [Model interpretation](#5-model-interpretation)"
   ]
  },
  {
   "cell_type": "markdown",
   "metadata": {},
   "source": [
    "## 1 Introduction"
   ]
  },
  {
   "cell_type": "markdown",
   "metadata": {},
   "source": [
    "In the following document the steps taken to complete the TDT4173 Modern Machine Learning in Practice project will be described."
   ]
  },
  {
   "cell_type": "markdown",
   "metadata": {},
   "source": [
    "### 1.1 Set-up"
   ]
  },
  {
   "cell_type": "code",
   "execution_count": 7,
   "metadata": {},
   "outputs": [],
   "source": [
    "import pandas as pd\n",
    "from datetime import timedelta\n",
    "import seaborn as sns\n",
    "import matplotlib.pyplot as plt\n",
    "#import geopy.distance"
   ]
  },
  {
   "cell_type": "markdown",
   "metadata": {},
   "source": [
    "The packages that were used in the project were:\n",
    "- pandas\n",
    "- datetime\n",
    "- ..."
   ]
  },
  {
   "cell_type": "code",
   "execution_count": 4,
   "metadata": {},
   "outputs": [],
   "source": [
    "train = pd.read_csv('ais_train.csv', sep='|')\n",
    "test = pd.read_csv('ais_test.csv', sep=',')\n",
    "vessels = pd.read_csv('vessels.csv', sep='|')\n",
    "ports = pd.read_csv('ports.csv', sep='|')"
   ]
  },
  {
   "cell_type": "markdown",
   "metadata": {},
   "source": [
    "- The training dataset, `ais_train.csv`, was imported as the dataframe `train`. \n",
    "- The test dataset, `ais_test.csv`, was imported as the dataframe `test`. \n",
    "- The vessels dataset, `vessels.csv`, was imported as the dataframe `vessels`. \n",
    "- The ports dataset, `ports.csv`, was imported as the dataframe `ports`. "
   ]
  },
  {
   "cell_type": "markdown",
   "metadata": {},
   "source": [
    "## 2 Exploratory data analysis"
   ]
  },
  {
   "cell_type": "markdown",
   "metadata": {},
   "source": [
    "Do at least 4 of the following:\n",
    "- Search domain knowledge\n",
    "- Check if the data is intuitive\n",
    "- Understand how the data was generated\n",
    "- Explore individual features\n",
    "- Explore pairs and groups of features\n",
    "- Clean up features\n",
    "    - Timedate"
   ]
  },
  {
   "cell_type": "markdown",
   "metadata": {},
   "source": [
    "### 2.1 Search domain knowledge"
   ]
  },
  {
   "cell_type": "markdown",
   "metadata": {},
   "source": [
    "#### 2.1.1 Vessel speed"
   ]
  },
  {
   "cell_type": "markdown",
   "metadata": {},
   "source": [
    "Vessels' speed usually varies. Container ships, for example, usually go between 16-24 knots, while some of the fastest cargo ships are able to reach speeds of 37 knots [[1]].\n",
    "\n",
    "\n",
    "[1]: https://medium.com/@crisri/how-fast-can-large-cargo-ships-go-what-is-the-maximum-speed-that-they-can-safely-travel-at-ae6b1f2c0155"
   ]
  },
  {
   "cell_type": "markdown",
   "metadata": {},
   "source": [
    "### 2.2 Check if the data is intuitive"
   ]
  },
  {
   "cell_type": "markdown",
   "metadata": {},
   "source": [
    "#### 2.2.1 `sog`"
   ]
  },
  {
   "cell_type": "code",
   "execution_count": 6,
   "metadata": {},
   "outputs": [
    {
     "data": {
      "text/html": [
       "<div>\n",
       "<style scoped>\n",
       "    .dataframe tbody tr th:only-of-type {\n",
       "        vertical-align: middle;\n",
       "    }\n",
       "\n",
       "    .dataframe tbody tr th {\n",
       "        vertical-align: top;\n",
       "    }\n",
       "\n",
       "    .dataframe thead th {\n",
       "        text-align: right;\n",
       "    }\n",
       "</style>\n",
       "<table border=\"1\" class=\"dataframe\">\n",
       "  <thead>\n",
       "    <tr style=\"text-align: right;\">\n",
       "      <th></th>\n",
       "      <th>count</th>\n",
       "      <th>mean</th>\n",
       "      <th>std</th>\n",
       "      <th>min</th>\n",
       "      <th>25%</th>\n",
       "      <th>50%</th>\n",
       "      <th>75%</th>\n",
       "      <th>max</th>\n",
       "    </tr>\n",
       "  </thead>\n",
       "  <tbody>\n",
       "    <tr>\n",
       "      <th>cog</th>\n",
       "      <td>1522065.0</td>\n",
       "      <td>178.249396</td>\n",
       "      <td>107.678507</td>\n",
       "      <td>0.00000</td>\n",
       "      <td>78.20000</td>\n",
       "      <td>183.80000</td>\n",
       "      <td>269.00000</td>\n",
       "      <td>360.00000</td>\n",
       "    </tr>\n",
       "    <tr>\n",
       "      <th>sog</th>\n",
       "      <td>1522065.0</td>\n",
       "      <td>6.331703</td>\n",
       "      <td>7.539364</td>\n",
       "      <td>0.00000</td>\n",
       "      <td>0.00000</td>\n",
       "      <td>0.50000</td>\n",
       "      <td>14.10000</td>\n",
       "      <td>102.30000</td>\n",
       "    </tr>\n",
       "    <tr>\n",
       "      <th>rot</th>\n",
       "      <td>1522065.0</td>\n",
       "      <td>0.505456</td>\n",
       "      <td>17.609157</td>\n",
       "      <td>-127.00000</td>\n",
       "      <td>0.00000</td>\n",
       "      <td>0.00000</td>\n",
       "      <td>0.00000</td>\n",
       "      <td>128.00000</td>\n",
       "    </tr>\n",
       "    <tr>\n",
       "      <th>heading</th>\n",
       "      <td>1522065.0</td>\n",
       "      <td>176.273681</td>\n",
       "      <td>107.085986</td>\n",
       "      <td>0.00000</td>\n",
       "      <td>75.00000</td>\n",
       "      <td>180.00000</td>\n",
       "      <td>265.00000</td>\n",
       "      <td>511.00000</td>\n",
       "    </tr>\n",
       "    <tr>\n",
       "      <th>navstat</th>\n",
       "      <td>1522065.0</td>\n",
       "      <td>2.092604</td>\n",
       "      <td>2.411965</td>\n",
       "      <td>0.00000</td>\n",
       "      <td>0.00000</td>\n",
       "      <td>0.00000</td>\n",
       "      <td>5.00000</td>\n",
       "      <td>15.00000</td>\n",
       "    </tr>\n",
       "    <tr>\n",
       "      <th>latitude</th>\n",
       "      <td>1522065.0</td>\n",
       "      <td>36.584970</td>\n",
       "      <td>22.904879</td>\n",
       "      <td>-47.53287</td>\n",
       "      <td>34.51683</td>\n",
       "      <td>42.23370</td>\n",
       "      <td>51.35197</td>\n",
       "      <td>70.55720</td>\n",
       "    </tr>\n",
       "    <tr>\n",
       "      <th>longitude</th>\n",
       "      <td>1522065.0</td>\n",
       "      <td>11.536464</td>\n",
       "      <td>68.715718</td>\n",
       "      <td>-167.54093</td>\n",
       "      <td>-5.21281</td>\n",
       "      <td>4.23435</td>\n",
       "      <td>18.83715</td>\n",
       "      <td>178.80538</td>\n",
       "    </tr>\n",
       "  </tbody>\n",
       "</table>\n",
       "</div>"
      ],
      "text/plain": [
       "               count        mean         std        min       25%        50%  \\\n",
       "cog        1522065.0  178.249396  107.678507    0.00000  78.20000  183.80000   \n",
       "sog        1522065.0    6.331703    7.539364    0.00000   0.00000    0.50000   \n",
       "rot        1522065.0    0.505456   17.609157 -127.00000   0.00000    0.00000   \n",
       "heading    1522065.0  176.273681  107.085986    0.00000  75.00000  180.00000   \n",
       "navstat    1522065.0    2.092604    2.411965    0.00000   0.00000    0.00000   \n",
       "latitude   1522065.0   36.584970   22.904879  -47.53287  34.51683   42.23370   \n",
       "longitude  1522065.0   11.536464   68.715718 -167.54093  -5.21281    4.23435   \n",
       "\n",
       "                 75%        max  \n",
       "cog        269.00000  360.00000  \n",
       "sog         14.10000  102.30000  \n",
       "rot          0.00000  128.00000  \n",
       "heading    265.00000  511.00000  \n",
       "navstat      5.00000   15.00000  \n",
       "latitude    51.35197   70.55720  \n",
       "longitude   18.83715  178.80538  "
      ]
     },
     "execution_count": 6,
     "metadata": {},
     "output_type": "execute_result"
    }
   ],
   "source": [
    "train.describe().T"
   ]
  },
  {
   "cell_type": "markdown",
   "metadata": {},
   "source": [
    "When checking if the data is intuitive, the `describe` method was used to gain a overview of the numerical values' distribution. `sog` stood out as a potential non-inuitive case due to its high max value. The high speed challenges our gained domain knowledge that would suggest that the fastest vessels travel up to only 37 knots as stated in [2.1.1 Vessel speed](#2.1.1-vessel-speed). Furthermore, the `sog` mean is 6.3 and the 75%-value is only 14.1. Therefore, a max value of 102.3 seems extreme from a distribution perspective as well. This relationship was further examined using a boxplot, as seen below. The plot shows that the right \"whisker is somewhere areound 35 knots and that there are multiple values beyond that value. The extreme values would suggest that they are outliers."
   ]
  },
  {
   "cell_type": "code",
   "execution_count": 8,
   "metadata": {},
   "outputs": [
    {
     "data": {
      "text/plain": [
       "<Axes: xlabel='sog'>"
      ]
     },
     "execution_count": 8,
     "metadata": {},
     "output_type": "execute_result"
    },
    {
     "data": {
      "image/png": "[encoded data removed]",
      "text/plain": [
       "<Figure size 640x480 with 1 Axes>"
      ]
     },
     "metadata": {},
     "output_type": "display_data"
    }
   ],
   "source": [
    "# Plot sog in a boxplot to get an idea of outliers\n",
    "sns.boxplot(x = 'sog', data = train)"
   ]
  },
  {
   "cell_type": "markdown",
   "metadata": {},
   "source": [
    "#### 2.2.2 `heading`"
   ]
  },
  {
   "cell_type": "markdown",
   "metadata": {},
   "source": [
    "In the `describe` table above `heading's` max value also presents an unintuitive characteristic. `heading` represents the heading of the vessel in degrees and should, thus, not be greater than 360. However, when reading the file \"Dataset definitions and explanation\" it is described that the value 511 indicates that the heading value is not available and is the default value. Therefore, the max value of 511 is probably not an error, but could cause unintuitive interpretation during model training. The number of occurances of 511 in heading was examined by the plot below."
   ]
  },
  {
   "cell_type": "code",
   "execution_count": 9,
   "metadata": {},
   "outputs": [
    {
     "data": {
      "text/plain": [
       "<Axes: xlabel='heading', ylabel='Count'>"
      ]
     },
     "execution_count": 9,
     "metadata": {},
     "output_type": "execute_result"
    },
    {
     "data": {
      "image/png": "[encoded data removed]",
      "text/plain": [
       "<Figure size 640x480 with 1 Axes>"
      ]
     },
     "metadata": {},
     "output_type": "display_data"
    }
   ],
   "source": [
    "sns.histplot(x='heading', data=train)"
   ]
  },
  {
   "cell_type": "markdown",
   "metadata": {},
   "source": [
    "### 2.3 Understand how the data was generated"
   ]
  },
  {
   "cell_type": "markdown",
   "metadata": {},
   "source": [
    "Train vs test 689 vs 200 vessels"
   ]
  },
  {
   "cell_type": "markdown",
   "metadata": {},
   "source": [
    "### 2.4 Explore individual features"
   ]
  },
  {
   "cell_type": "markdown",
   "metadata": {},
   "source": [
    "The individual features for each dataset `train`, `test`, `vessels`, `ports`, and `schedules` were examined. First, an overall exploration of all features in each individual dataset was conducted. After, specific features of interest were examined in more detail."
   ]
  },
  {
   "cell_type": "markdown",
   "metadata": {},
   "source": [
    "#### 2.4.1 `train`"
   ]
  },
  {
   "cell_type": "code",
   "execution_count": 10,
   "metadata": {},
   "outputs": [
    {
     "data": {
      "text/html": [
       "<div>\n",
       "<style scoped>\n",
       "    .dataframe tbody tr th:only-of-type {\n",
       "        vertical-align: middle;\n",
       "    }\n",
       "\n",
       "    .dataframe tbody tr th {\n",
       "        vertical-align: top;\n",
       "    }\n",
       "\n",
       "    .dataframe thead th {\n",
       "        text-align: right;\n",
       "    }\n",
       "</style>\n",
       "<table border=\"1\" class=\"dataframe\">\n",
       "  <thead>\n",
       "    <tr style=\"text-align: right;\">\n",
       "      <th></th>\n",
       "      <th>count</th>\n",
       "      <th>mean</th>\n",
       "      <th>std</th>\n",
       "      <th>min</th>\n",
       "      <th>25%</th>\n",
       "      <th>50%</th>\n",
       "      <th>75%</th>\n",
       "      <th>max</th>\n",
       "    </tr>\n",
       "  </thead>\n",
       "  <tbody>\n",
       "    <tr>\n",
       "      <th>cog</th>\n",
       "      <td>1522065.0</td>\n",
       "      <td>178.249396</td>\n",
       "      <td>107.678507</td>\n",
       "      <td>0.00000</td>\n",
       "      <td>78.20000</td>\n",
       "      <td>183.80000</td>\n",
       "      <td>269.00000</td>\n",
       "      <td>360.00000</td>\n",
       "    </tr>\n",
       "    <tr>\n",
       "      <th>sog</th>\n",
       "      <td>1522065.0</td>\n",
       "      <td>6.331703</td>\n",
       "      <td>7.539364</td>\n",
       "      <td>0.00000</td>\n",
       "      <td>0.00000</td>\n",
       "      <td>0.50000</td>\n",
       "      <td>14.10000</td>\n",
       "      <td>102.30000</td>\n",
       "    </tr>\n",
       "    <tr>\n",
       "      <th>rot</th>\n",
       "      <td>1522065.0</td>\n",
       "      <td>0.505456</td>\n",
       "      <td>17.609157</td>\n",
       "      <td>-127.00000</td>\n",
       "      <td>0.00000</td>\n",
       "      <td>0.00000</td>\n",
       "      <td>0.00000</td>\n",
       "      <td>128.00000</td>\n",
       "    </tr>\n",
       "    <tr>\n",
       "      <th>heading</th>\n",
       "      <td>1522065.0</td>\n",
       "      <td>176.273681</td>\n",
       "      <td>107.085986</td>\n",
       "      <td>0.00000</td>\n",
       "      <td>75.00000</td>\n",
       "      <td>180.00000</td>\n",
       "      <td>265.00000</td>\n",
       "      <td>511.00000</td>\n",
       "    </tr>\n",
       "    <tr>\n",
       "      <th>navstat</th>\n",
       "      <td>1522065.0</td>\n",
       "      <td>2.092604</td>\n",
       "      <td>2.411965</td>\n",
       "      <td>0.00000</td>\n",
       "      <td>0.00000</td>\n",
       "      <td>0.00000</td>\n",
       "      <td>5.00000</td>\n",
       "      <td>15.00000</td>\n",
       "    </tr>\n",
       "    <tr>\n",
       "      <th>latitude</th>\n",
       "      <td>1522065.0</td>\n",
       "      <td>36.584970</td>\n",
       "      <td>22.904879</td>\n",
       "      <td>-47.53287</td>\n",
       "      <td>34.51683</td>\n",
       "      <td>42.23370</td>\n",
       "      <td>51.35197</td>\n",
       "      <td>70.55720</td>\n",
       "    </tr>\n",
       "    <tr>\n",
       "      <th>longitude</th>\n",
       "      <td>1522065.0</td>\n",
       "      <td>11.536464</td>\n",
       "      <td>68.715718</td>\n",
       "      <td>-167.54093</td>\n",
       "      <td>-5.21281</td>\n",
       "      <td>4.23435</td>\n",
       "      <td>18.83715</td>\n",
       "      <td>178.80538</td>\n",
       "    </tr>\n",
       "  </tbody>\n",
       "</table>\n",
       "</div>"
      ],
      "text/plain": [
       "               count        mean         std        min       25%        50%  \\\n",
       "cog        1522065.0  178.249396  107.678507    0.00000  78.20000  183.80000   \n",
       "sog        1522065.0    6.331703    7.539364    0.00000   0.00000    0.50000   \n",
       "rot        1522065.0    0.505456   17.609157 -127.00000   0.00000    0.00000   \n",
       "heading    1522065.0  176.273681  107.085986    0.00000  75.00000  180.00000   \n",
       "navstat    1522065.0    2.092604    2.411965    0.00000   0.00000    0.00000   \n",
       "latitude   1522065.0   36.584970   22.904879  -47.53287  34.51683   42.23370   \n",
       "longitude  1522065.0   11.536464   68.715718 -167.54093  -5.21281    4.23435   \n",
       "\n",
       "                 75%        max  \n",
       "cog        269.00000  360.00000  \n",
       "sog         14.10000  102.30000  \n",
       "rot          0.00000  128.00000  \n",
       "heading    265.00000  511.00000  \n",
       "navstat      5.00000   15.00000  \n",
       "latitude    51.35197   70.55720  \n",
       "longitude   18.83715  178.80538  "
      ]
     },
     "execution_count": 10,
     "metadata": {},
     "output_type": "execute_result"
    }
   ],
   "source": [
    "train.describe().T"
   ]
  },
  {
   "cell_type": "code",
   "execution_count": 11,
   "metadata": {},
   "outputs": [
    {
     "name": "stdout",
     "output_type": "stream",
     "text": [
      "<class 'pandas.core.frame.DataFrame'>\n",
      "RangeIndex: 1522065 entries, 0 to 1522064\n",
      "Data columns (total 11 columns):\n",
      " #   Column     Non-Null Count    Dtype  \n",
      "---  ------     --------------    -----  \n",
      " 0   time       1522065 non-null  object \n",
      " 1   cog        1522065 non-null  float64\n",
      " 2   sog        1522065 non-null  float64\n",
      " 3   rot        1522065 non-null  int64  \n",
      " 4   heading    1522065 non-null  int64  \n",
      " 5   navstat    1522065 non-null  int64  \n",
      " 6   etaRaw     1522065 non-null  object \n",
      " 7   latitude   1522065 non-null  float64\n",
      " 8   longitude  1522065 non-null  float64\n",
      " 9   vesselId   1522065 non-null  object \n",
      " 10  portId     1520450 non-null  object \n",
      "dtypes: float64(4), int64(3), object(4)\n",
      "memory usage: 127.7+ MB\n"
     ]
    }
   ],
   "source": [
    "train.info() "
   ]
  },
  {
   "cell_type": "code",
   "execution_count": 12,
   "metadata": {},
   "outputs": [
    {
     "data": {
      "text/plain": [
       "time            0\n",
       "cog             0\n",
       "sog             0\n",
       "rot             0\n",
       "heading         0\n",
       "navstat         0\n",
       "etaRaw          0\n",
       "latitude        0\n",
       "longitude       0\n",
       "vesselId        0\n",
       "portId       1615\n",
       "dtype: int64"
      ]
     },
     "execution_count": 12,
     "metadata": {},
     "output_type": "execute_result"
    }
   ],
   "source": [
    "# Check for null values\n",
    "train.isnull().sum()"
   ]
  },
  {
   "cell_type": "code",
   "execution_count": 16,
   "metadata": {},
   "outputs": [
    {
     "name": "stdout",
     "output_type": "stream",
     "text": [
      "Number of duplicate rows in train: 0\n"
     ]
    }
   ],
   "source": [
    "# Count duplicate rows\n",
    "print('Number of duplicate rows in train:', len(train)-len(train.drop_duplicates()))"
   ]
  },
  {
   "cell_type": "markdown",
   "metadata": {},
   "source": [
    "##### 2.4.1.1 `navstat`"
   ]
  },
  {
   "cell_type": "code",
   "execution_count": 17,
   "metadata": {},
   "outputs": [
    {
     "data": {
      "text/plain": [
       "navstat\n",
       "0     782099\n",
       "5     605831\n",
       "1     129515\n",
       "2       2081\n",
       "8        948\n",
       "15       670\n",
       "6        521\n",
       "4        232\n",
       "3        161\n",
       "11         2\n",
       "12         1\n",
       "13         1\n",
       "14         1\n",
       "7          1\n",
       "9          1\n",
       "Name: count, dtype: int64"
      ]
     },
     "execution_count": 17,
     "metadata": {},
     "output_type": "execute_result"
    }
   ],
   "source": [
    "# Count the occurence of navstat values\n",
    "train['navstat'].value_counts()"
   ]
  },
  {
   "cell_type": "code",
   "execution_count": 18,
   "metadata": {},
   "outputs": [
    {
     "data": {
      "text/plain": [
       "<Axes: xlabel='navstat', ylabel='Count'>"
      ]
     },
     "execution_count": 18,
     "metadata": {},
     "output_type": "execute_result"
    },
    {
     "data": {
      "image/png": "[encoded data removed]",
      "text/plain": [
       "<Figure size 640x480 with 1 Axes>"
      ]
     },
     "metadata": {},
     "output_type": "display_data"
    }
   ],
   "source": [
    "# Plot navstat to visualize the number of each navstat\n",
    "sns.histplot(x='navstat', data = train)"
   ]
  },
  {
   "cell_type": "markdown",
   "metadata": {},
   "source": [
    "##### 2.4.1.2 `sog`"
   ]
  },
  {
   "cell_type": "code",
   "execution_count": 19,
   "metadata": {},
   "outputs": [
    {
     "data": {
      "text/plain": [
       "<Axes: xlabel='sog'>"
      ]
     },
     "execution_count": 19,
     "metadata": {},
     "output_type": "execute_result"
    },
    {
     "data": {
      "image/png": "[encoded data removed]",
      "text/plain": [
       "<Figure size 640x480 with 1 Axes>"
      ]
     },
     "metadata": {},
     "output_type": "display_data"
    }
   ],
   "source": [
    "# Plot sog in a boxplot to get an idea of outliers\n",
    "sns.boxplot(x = 'sog', data = train)"
   ]
  },
  {
   "cell_type": "code",
   "execution_count": 23,
   "metadata": {},
   "outputs": [
    {
     "name": "stdout",
     "output_type": "stream",
     "text": [
      "Number of unique vessels with sog over 40: 33\n",
      "Number of entries in train with sog over 40: 417\n"
     ]
    }
   ],
   "source": [
    "# Count number of rows with sog over 40, which seems to represent the upper outliers\n",
    "df_sog_greater_40 = train[train['sog'] > 40]    \n",
    "\n",
    "unique_vessels_sog_greater_40 = df_sog_greater_40['vesselId'].unique()\n",
    "\n",
    "#print(unique_vessels_sog_greater_40)\n",
    "print('Number of unique vessels with sog over 40:', len(unique_vessels_sog_greater_40))\n",
    "print('Number of entries in train with sog over 40:', (train['sog'] > 40).sum())"
   ]
  },
  {
   "cell_type": "code",
   "execution_count": 20,
   "metadata": {},
   "outputs": [
    {
     "data": {
      "text/plain": [
       "<Axes: xlabel='sog', ylabel='Count'>"
      ]
     },
     "execution_count": 20,
     "metadata": {},
     "output_type": "execute_result"
    },
    {
     "data": {
      "image/png": "[encoded data removed]",
      "text/plain": [
       "<Figure size 640x480 with 1 Axes>"
      ]
     },
     "metadata": {},
     "output_type": "display_data"
    }
   ],
   "source": [
    "# Plot sog in a histogram\n",
    "sns.histplot(x='sog',data=train)"
   ]
  },
  {
   "cell_type": "code",
   "execution_count": 21,
   "metadata": {},
   "outputs": [
    {
     "data": {
      "text/plain": [
       "sog\n",
       "0.0     650180\n",
       "0.1      70767\n",
       "0.2      18370\n",
       "0.3      10765\n",
       "16.0      8906\n",
       "         ...  \n",
       "45.2         1\n",
       "25.3         1\n",
       "77.5         1\n",
       "65.0         1\n",
       "58.2         1\n",
       "Name: count, Length: 281, dtype: int64"
      ]
     },
     "execution_count": 21,
     "metadata": {},
     "output_type": "execute_result"
    }
   ],
   "source": [
    "# Count the occurence of sog values\n",
    "train['sog'].value_counts()"
   ]
  },
  {
   "cell_type": "markdown",
   "metadata": {},
   "source": [
    "##### 2.4.1.3 `heading`"
   ]
  },
  {
   "cell_type": "markdown",
   "metadata": {},
   "source": [
    "### 2.5 Explore pairs and groups of features"
   ]
  },
  {
   "cell_type": "markdown",
   "metadata": {},
   "source": [
    "Correlation plots\n",
    "\n",
    "scatter plots\n",
    "\n",
    "plot (index vs feature statistics)"
   ]
  },
  {
   "cell_type": "markdown",
   "metadata": {},
   "source": [
    "### 2.6 Clean up features"
   ]
  },
  {
   "cell_type": "markdown",
   "metadata": {},
   "source": [
    "Filled in missing values for portId in train"
   ]
  },
  {
   "cell_type": "markdown",
   "metadata": {},
   "source": [
    "## 3 Feature engineering"
   ]
  },
  {
   "cell_type": "markdown",
   "metadata": {},
   "source": [
    "**To avoid the deduction, you should show that you have tried one or more feature engineering techniques (i.e., feature selection and/or feature extraction) in the report.**"
   ]
  },
  {
   "cell_type": "markdown",
   "metadata": {},
   "source": [
    "For the feature engineering, both feature selection and extraction were conducted. The feature engineering was initially based on the exploratory data analysis but was also adjusted iteratively based on prediction results.\n",
    "\n",
    "The main function for feature engineering `feature_engineering_heading(test,train)` can be seen below. The function inputs the test dataframe and the train dataframe and returns the dataframe, `features` with the decired features. In the following parts the specific feature selection and extraction that was conducted will be described in more detail."
   ]
  },
  {
   "cell_type": "markdown",
   "metadata": {},
   "source": [
    "```python\n",
    "def feature_engineering_heading(test, train):\n",
    "    test = test.copy()\n",
    "    train = train.copy()\n",
    "    features = pd.DataFrame()\n",
    "\n",
    "    # Add the columns vesselId, time, latitude, longitude, cog and sog to the features from train\n",
    "    features['vesselId'] = train['vesselId']\n",
    "    features['portId'] = train['portId']\n",
    "    features['time'] = train['time']\n",
    "    features['etaRaw'] = train['etaRaw']\n",
    "    features['latitude'] = train['latitude']\n",
    "    features['longitude'] = train['longitude']\n",
    "    features['cog'] = train['cog']\n",
    "    features['sog'] = train['sog']\n",
    "\n",
    "    # Create a new binary column for 'under_way' based on the navstat column in train. \n",
    "    # 1 if navstat is 0 or 8, 0 otherwise\n",
    "    features['under_way'] = train['navstat'].isin([0, 8]).astype(int)\n",
    "\n",
    "    # Adding the columns latitude_1 (last seen latitude) and longitude_1 (last senn longitude)\n",
    "    # to the features from train. For each vessel\n",
    "    # Also adding time_1 (time difference from current time to last seen time)\n",
    "    features['latitude_1'] = train.groupby('vesselId')['latitude'].shift(1)\n",
    "    features['longitude_1'] = train.groupby('vesselId')['longitude'].shift(1)\n",
    "    features['time_1'] = train.groupby('vesselId')['time'].diff().dt.total_seconds()\n",
    "\n",
    "    # Adding the columns latitude_2 (second last seen latitude) and longitude_2 (second last seen longitude)\n",
    "    # to the features from train. For each vessel\n",
    "    # Also adding time_2 (time difference from current time to second last seen time)\n",
    "    features['latitude_2'] = train.groupby('vesselId')['latitude'].shift(2)\n",
    "    features['longitude_2'] = train.groupby('vesselId')['longitude'].shift(2)\n",
    "    features['time_2'] = train.groupby('vesselId')['time'].diff(2).dt.total_seconds()\n",
    "\n",
    "    # Adding the columns latitude_3 (third last seen latitude) and longitude_3 (third last seen longitude)\n",
    "    # to the features from train. For each vessel\n",
    "    # Also adding time_3 (time difference from current time to third last seen time)\n",
    "    features['latitude_3'] = train.groupby('vesselId')['latitude'].shift(3)\n",
    "    features['longitude_3'] = train.groupby('vesselId')['longitude'].shift(3)\n",
    "    features['time_3'] = train.groupby('vesselId')['time'].diff(3).dt.total_seconds()\n",
    "\n",
    "    # Apply the conversion function to create a new 'eta' column\n",
    "    features['eta'] = features.apply(convert_eta_raw, axis=1)\n",
    "\n",
    "    # Calculate the time difference between 'time' and 'eta' in seconds\n",
    "    features['time_difference_eta'] = (features['eta'] - features['time']).dt.total_seconds()\n",
    "\n",
    "    # Split the time column into month, day, hour, minute, and second columns\n",
    "    features['month'] = train['time'].dt.month\n",
    "    features['day'] = train['time'].dt.day\n",
    "    features['hour'] = train['time'].dt.hour\n",
    "    features['minute'] = train['time'].dt.minute\n",
    "\n",
    "    # Drop the 'time' and 'etaRaw' columns as they are no longer needed\n",
    "    features.drop(['time', 'etaRaw'], axis=1, inplace=True)\n",
    "    features.drop(['eta'], axis=1, inplace=True)\n",
    "\n",
    "    # Merge the features with the ports\n",
    "    # Drop rows where portId is null/Nan\n",
    "    features = features.dropna(subset=['portId'])\n",
    "    features['portId'] = features['portId'].astype(int)\n",
    "    features = merge_with_ports(features, ports)\n",
    "\n",
    "    # Add the feature 'changed_port' to the features.\n",
    "    # 1 if the vessel has changed port, 0 otherwise\n",
    "    # features['changed_port'] = features['portId'] != features['portId'].shift(1)\n",
    "\n",
    "    # Drop the portId column\n",
    "    # features = features.drop('portId', axis=1)\n",
    "\n",
    "    # Drop \n",
    "\n",
    "    return features\n",
    "```"
   ]
  },
  {
   "cell_type": "markdown",
   "metadata": {},
   "source": [
    "### 3.1 Feature selection"
   ]
  },
  {
   "cell_type": "markdown",
   "metadata": {},
   "source": [
    "When conducting the feature selection, the dataframe `features` was created in the function `feature_engineering_heading(test,train)` where the desired features from the dataframes `train` and `ports` were appended."
   ]
  },
  {
   "cell_type": "markdown",
   "metadata": {},
   "source": [
    "#### 3.1.1 Selection from `train`\n",
    "\n",
    "From `train`, the features `vesselId`, `portId`, `latitude`, `longitude`, `cog`, and `sog` were directly selected. \n",
    "\n",
    "The calendar features, `month`, `day`, `hour`, and `minute`, describing the time at which the data point was recorded were also included as seperate featuers. The year and second that were also included in the raw data were, however, left out. The year for all data was 2024 which means that there was no variability and no information to be gained from including the feature. Seconds were to granular to provide any information **(Is this why we did it? just said something lol)**\n",
    "\n",
    "The features `heading` and `rot` from `train` were not selected as final features. `heading` was not selected due to its high correlation with `cog`, which was deemed to be a more accurate representation of vessel direction **(is this true?)**. `rot` was not included as a feature due to its inclusion reducing performance **(is this true?)**\n",
    "\n",
    "The features `etaRaw` and `navstat` from `train` were not directly selected but instead used to generate new features, which is described in more detail in [3.2 Feature engineering](#3.2-feature-engineering). `etaRaw` was not selected directly because it proved to be more valuable as a relational feature to `time`. `navstat` was not selected due to it mainly describing two states, under way, given by the feature values 0 and 8 and not under way, given by the feature values 1 and 5."
   ]
  },
  {
   "cell_type": "markdown",
   "metadata": {},
   "source": [
    "#### 3.1.2 Selection from `ports`"
   ]
  },
  {
   "cell_type": "markdown",
   "metadata": {},
   "source": [
    "From `ports`, the features `longitude` and `latitude` were selected, and called `portLongitude` and `portLatitude`. The motivation was to give the model an idea of the vessels final location."
   ]
  },
  {
   "cell_type": "markdown",
   "metadata": {},
   "source": [
    "### 3.2 Feature extraction"
   ]
  },
  {
   "cell_type": "markdown",
   "metadata": {},
   "source": [
    "#### 3.2.1 `under_way`"
   ]
  },
  {
   "cell_type": "markdown",
   "metadata": {},
   "source": [
    "As mentioned in [3.1.1](#3.1.1-selected-from-train) `navstat` was not selected, but instead used to generate a new feature called `under_way`. The new feature values were set to 1 if the `navstat` value was 0 or 8 and set to 0 in all other cases."
   ]
  },
  {
   "cell_type": "markdown",
   "metadata": {},
   "source": [
    "#### 3.2.2 Lag features"
   ]
  },
  {
   "cell_type": "markdown",
   "metadata": {},
   "source": [
    "The autoregressive lag features `latitude_1` and `longitude_1` was simply the latitude and longitude of the current vessel one time stamp ago. `latitude_2` and `longitude_2` as well as `latitude_3` and `longitude_3` were similirly lag features but from 2 and 3 time steps before, respectively. Lag features were described as beneficial during the lecture on time series and was therefore used in the project. "
   ]
  },
  {
   "cell_type": "markdown",
   "metadata": {},
   "source": [
    "### 3.2.3 Time since last seen"
   ]
  },
  {
   "cell_type": "markdown",
   "metadata": {},
   "source": [
    "Furtermore, in combination with the lag features, the features `time_1`, `time_2`, and `time_3` were generated. The time features describe the time difference from current time to last, second last, and third last seen time. These features describe when the three lagged latitude and longitude features were recorded. This was done because sometimes there could be a big time difference between two following measurements. Intuitively, if previously seen latitude and longitude were a long time ago and the vessel has moved, the data should be less valuable in predicting the next position. The time features allow the model to interpret this pattern. "
   ]
  },
  {
   "cell_type": "markdown",
   "metadata": {},
   "source": [
    "#### 3.2.4 Time to arrival"
   ]
  },
  {
   "cell_type": "markdown",
   "metadata": {},
   "source": [
    "The time to arrival, represented in the feature `time_difference_eta`, was extracted by subtracting the eta with the current time, as seen in the main function `feature_engineering_heading`. Firstly, however, the feature `etaRaw` in `train` had to be preprocessed to allow for the feature extraction, which was done by the function `convert_eta_raw(row)` seen below. `etaRaw` had to be converted to the datetime format and also had to be handled if the `etaRaw` value was earlier than `time` value of when the data was recorded.\n",
    "\n",
    "```python\n",
    "# Function to convert 'etaRaw' to datetime format, handling year rollovers\n",
    "def convert_eta_raw(row):\n",
    "    current_year = row['time'].year  # Get the year from the 'time' column\n",
    "    eta_with_year = f\"{current_year}-{row['etaRaw']}\"  # Create full datetime string\n",
    "    eta_datetime = pd.to_datetime(eta_with_year, format='%Y-%m-%d %H:%M', errors='coerce')\n",
    "    \n",
    "    # Adjust year if 'etaRaw' is earlier than 'time'\n",
    "    if eta_datetime < row['time']:\n",
    "        eta_datetime = eta_datetime + timedelta(days=365)\n",
    "    return eta_datetime\n",
    "```"
   ]
  },
  {
   "cell_type": "markdown",
   "metadata": {},
   "source": [
    "#### 3.2.5 Distance to port"
   ]
  },
  {
   "cell_type": "markdown",
   "metadata": {},
   "source": [
    "The feature `distance_to_port` was calculated in the function `merge_with_ports(features,ports)`, as seen below. `merge_with_ports` was called in the main `feature_engineering_heading` function. `distance_to_port` was calculated with the help of the `geopy` package and allowed the model to interpret distance left to final destination. \n",
    "\n",
    "```python\n",
    "def merge_with_ports(features, ports):\n",
    "    features = features.copy()\n",
    "\n",
    "    # Dropping the irrelevant columns in ports\n",
    "    ports = ports.drop(['name', 'portLocation', 'UN_LOCODE', 'countryName', 'ISO'], axis=1, errors='ignore')\n",
    "\n",
    "    # Renaming longitude and latitude columns in ports to portLongitude and portLatitude\n",
    "    ports = ports.rename(columns={'longitude': 'portLongitude', 'latitude': 'portLatitude'})\n",
    "\n",
    "    # Merging the features with the ports on portId\n",
    "    features = features.merge(ports, on='portId', how='left')\n",
    "\n",
    "    # Drop rows with NaN values in latitude and longitude\n",
    "    features = features.dropna()\n",
    "\n",
    "    # Calculating the distance between the vessel and the port\n",
    "    features['distance_to_port'] = features.apply(lambda x: geopy.distance.distance((x['latitude_1'], x['longitude_1']), (x['portLatitude'], x['portLongitude'])).nm, axis=1)\n",
    "\n",
    "\n",
    "    return features\n",
    "```"
   ]
  },
  {
   "cell_type": "markdown",
   "metadata": {},
   "source": [
    "## 4 Modeling"
   ]
  },
  {
   "cell_type": "markdown",
   "metadata": {},
   "source": [
    "**To avoid the deduction, you should show that you have tried two or more types of predictors in the report (e.g., XGBoost and Random Forest). It is allowed to use only one type of predictor in a short notebook for Kaggle predictions.**"
   ]
  },
  {
   "cell_type": "markdown",
   "metadata": {},
   "source": [
    "During the data preprocessing and feature engineerng process, the XGBoostRegressor model was used to validate iterations due to its quick run time. When a desirable preprocessing and feature engineering had been completed, a model testing phase was initiated. During testing two types of predictors were tested: XGBoostRegressor and **_____**. The best performing model was selected as the final model. Lastly, hyper-parameter tuning was conducted for the selected model."
   ]
  },
  {
   "cell_type": "markdown",
   "metadata": {},
   "source": [
    "### 4.1 Model testing"
   ]
  },
  {
   "cell_type": "markdown",
   "metadata": {},
   "source": [
    "#### 4.1.1 XGBoost"
   ]
  },
  {
   "cell_type": "markdown",
   "metadata": {},
   "source": [
    "#### 4.1.2 Other model"
   ]
  },
  {
   "cell_type": "markdown",
   "metadata": {},
   "source": [
    "### 4.2 Final model"
   ]
  },
  {
   "cell_type": "markdown",
   "metadata": {},
   "source": [
    "#### 4.2.1 Hyper-parameter tuning"
   ]
  },
  {
   "cell_type": "markdown",
   "metadata": {},
   "source": [
    "## 5 Model interpretation"
   ]
  },
  {
   "cell_type": "markdown",
   "metadata": {},
   "source": [
    "To avoid the deduction, you should show one or more model interpretation results (e.g., PDP, feature importance, LIME) in the report."
   ]
  }
 ],
 "metadata": {
  "kernelspec": {
   "display_name": "base",
   "language": "python",
   "name": "python3"
  },
  "language_info": {
   "codemirror_mode": {
    "name": "ipython",
    "version": 3
   },
   "file_extension": ".py",
   "mimetype": "text/x-python",
   "name": "python",
   "nbconvert_exporter": "python",
   "pygments_lexer": "ipython3",
   "version": "3.12.4"
  }
 },
 "nbformat": 4,
 "nbformat_minor": 2
}
