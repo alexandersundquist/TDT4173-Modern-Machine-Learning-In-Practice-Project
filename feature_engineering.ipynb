{
 "cells": [
  {
   "cell_type": "markdown",
   "metadata": {},
   "source": [
    "# Feature engineering "
   ]
  },
  {
   "cell_type": "code",
   "execution_count": 1,
   "metadata": {},
   "outputs": [],
   "source": [
    "import pandas as pd"
   ]
  },
  {
   "cell_type": "code",
   "execution_count": 2,
   "metadata": {},
   "outputs": [],
   "source": [
    "\n",
    "ais_train = pd.read_csv('ais_train.csv', sep='|')\n",
    "ports = pd.read_csv('ports.csv', sep='|')\n",
    "vessels = pd.read_csv('vessels.csv', sep='|')"
   ]
  },
  {
   "cell_type": "code",
   "execution_count": 3,
   "metadata": {},
   "outputs": [],
   "source": [
    "# Create a new dataframe called features\n",
    "features = pd.DataFrame()\n",
    "\n",
    "# Add selected columns from ais_train to the features dataframe\n",
    "features['time'] = ais_train['time']\n",
    "features['cog'] = ais_train['cog']\n",
    "features['sog'] = ais_train['sog']\n",
    "features['rot'] = ais_train['rot']\n",
    "features['navstat'] = ais_train['navstat']\n",
    "features['longitude'] = ais_train['longitude']\n",
    "features['latitude'] = ais_train['latitude']\n",
    "\n",
    "# Merge ais_train with ports to get port longitude and latitude\n",
    "ais_train = ais_train.merge(ports[['portId', 'longitude', 'latitude']], how='left', left_on='portId', right_on='portId', suffixes=('', '_port'))\n",
    "\n",
    "# Add port longitude and latitude to the features dataframe\n",
    "features['port_longitude'] = ais_train['longitude_port']\n",
    "features['port_latitude'] = ais_train['latitude_port']\n",
    "\n",
    "# Extract temporal features from the TIME variable\n",
    "ais_train['time'] = pd.to_datetime(ais_train['time'])\n",
    "features['hour'] = ais_train['time'].dt.hour\n",
    "features['day_of_week'] = ais_train['time'].dt.dayofweek\n",
    "features['month'] = ais_train['time'].dt.month\n",
    "features['year'] = ais_train['time'].dt.year\n",
    "\n"
   ]
  },
  {
   "cell_type": "code",
   "execution_count": null,
   "metadata": {},
   "outputs": [],
   "source": []
  }
 ],
 "metadata": {
  "kernelspec": {
   "display_name": "Python 3",
   "language": "python",
   "name": "python3"
  },
  "language_info": {
   "codemirror_mode": {
    "name": "ipython",
    "version": 3
   },
   "file_extension": ".py",
   "mimetype": "text/x-python",
   "name": "python",
   "nbconvert_exporter": "python",
   "pygments_lexer": "ipython3",
   "version": "3.12.0"
  }
 },
 "nbformat": 4,
 "nbformat_minor": 2
}
